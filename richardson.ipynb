{
 "cells": [
  {
   "cell_type": "code",
   "execution_count": 11,
   "id": "9b79ee9f",
   "metadata": {},
   "outputs": [],
   "source": [
    "import numpy as np\n",
    "import timeit\n",
    "\n",
    "from sklearn.datasets import make_spd_matrix"
   ]
  },
  {
   "cell_type": "code",
   "execution_count": 2,
   "id": "6fc67c23",
   "metadata": {},
   "outputs": [],
   "source": [
    "class Gershgorin:\n",
    "    def estimate_eigenvalues(self, A: np.ndarray):\n",
    "        first_circles = []\n",
    "        second_circles = []\n",
    "        \n",
    "        union_circles = []\n",
    "        \n",
    "        for row in range(A.shape[0]):\n",
    "            current_radius = 0\n",
    "            for column in range(A.shape[1]):\n",
    "                if row == column:\n",
    "                    continue\n",
    "                \n",
    "                current_radius += abs(A[row][column])\n",
    "                \n",
    "            first_circles.append([A[row][row] - current_radius, A[row][row] + current_radius])\n",
    "        \n",
    "        for column in range(A.shape[1]):\n",
    "            current_radius = 0\n",
    "            for row in range(A.shape[0]):\n",
    "                if row == column:\n",
    "                    continue\n",
    "                \n",
    "                current_radius += abs(A[row][column])\n",
    "                \n",
    "            second_circles.append([A[row][row] - current_radius, A[row][row] + current_radius])\n",
    "            \n",
    "        for first_circle, second_circle in zip(first_circles, second_circles):\n",
    "            union_circles.append([max(first_circle[0], second_circle[0]), min(first_circle[1], second_circle[1])])\n",
    "        \n",
    "        lower_bound = min(map(lambda x: x[0], union_circles))\n",
    "        upper_bound = max(map(lambda x: x[1], union_circles))\n",
    "        \n",
    "        return max(0, lower_bound), upper_bound"
   ]
  },
  {
   "cell_type": "code",
   "execution_count": 19,
   "id": "570f9b89",
   "metadata": {},
   "outputs": [],
   "source": [
    "class Richardson:\n",
    "    def solve(self, A: np.ndarray, b: np.ndarray, tau: float, tolerance: float = 1e-3, max_steps: int = None):\n",
    "        assert A.shape[0] == A.shape[1]\n",
    "        assert A.shape[0] == b.shape[0]\n",
    "        assert b.shape[1] == 1\n",
    "        \n",
    "        start = timeit.default_timer()\n",
    "        \n",
    "        error = tolerance + 1.0\n",
    "        steps = 0\n",
    "        current_x = np.ones_like(b)\n",
    "        S = (np.identity(A.shape[0]) - tau * A)\n",
    "        \n",
    "        while error >= tolerance and (max_steps is None or steps < max_steps):\n",
    "            current_x = S @ current_x + tau * b\n",
    "            \n",
    "            error = np.linalg.norm(A @ current_x - b)\n",
    "            steps += 1\n",
    "            \n",
    "        if error < tolerance:\n",
    "            print(f\"Tolerance level reached with error: {error} and {steps} steps\")\n",
    "        if steps == max_steps:\n",
    "            print(f\"Max steps {max_steps} reached\")\n",
    "            \n",
    "        stop = timeit.default_timer()\n",
    "        \n",
    "        print('Time elapsed:', stop - start)\n",
    "            \n",
    "        return current_x"
   ]
  },
  {
   "cell_type": "code",
   "execution_count": 23,
   "id": "3e039467",
   "metadata": {},
   "outputs": [
    {
     "name": "stdout",
     "output_type": "stream",
     "text": [
      "Numpy solution time elapsed: 0.11212330000000748\n",
      "Eigenvalues estimate by Gershgorin circles: (0, 338.1072583350118)\n",
      "Min and max eigenvalues from Numpy: 0.004900046915039872 150.4861771586605\n"
     ]
    }
   ],
   "source": [
    "MATRIX_SIZE = 150\n",
    "TOLERANCE = 1e-4\n",
    "\n",
    "A = make_spd_matrix(MATRIX_SIZE)\n",
    "b = np.random.randn(MATRIX_SIZE, 1)\n",
    "\n",
    "start = timeit.default_timer()\n",
    "numpy_solution = np.linalg.solve(A, b)\n",
    "stop = timeit.default_timer()\n",
    "\n",
    "print('Numpy solution time elapsed:', stop - start)\n",
    "\n",
    "gershgorin = Gershgorin()\n",
    "print(\"Eigenvalues estimate by Gershgorin circles:\", gershgorin.estimate_eigenvalues(A))\n",
    "print(\"Min and max eigenvalues from Numpy:\", np.linalg.eigvals(A).min(), np.linalg.eigvals(A).max())"
   ]
  },
  {
   "cell_type": "markdown",
   "id": "0c8a7e13",
   "metadata": {},
   "source": [
    "## Arbitrary tau"
   ]
  },
  {
   "cell_type": "code",
   "execution_count": 24,
   "id": "9330cfaa",
   "metadata": {},
   "outputs": [
    {
     "name": "stdout",
     "output_type": "stream",
     "text": [
      "Computing with tau: 0.006645128601716559\n",
      "Tolerance level reached with error: 0.000999979051535903 and 167847 steps\n",
      "Time elapsed: 131.03480109999998\n",
      "Norm of difference with Numpy solution: 0.2040753602155222\n"
     ]
    }
   ],
   "source": [
    "tau = 1 / np.linalg.eigvals(A).max()\n",
    "print('Computing with tau:', tau)\n",
    "\n",
    "my_solution = Richardson().solve(A, b, tau)\n",
    "\n",
    "print('Norm of difference with Numpy solution:', np.linalg.norm(my_solution - numpy_solution))"
   ]
  },
  {
   "cell_type": "markdown",
   "id": "2b9e572c",
   "metadata": {},
   "source": [
    "## Estimate optimal tau"
   ]
  },
  {
   "cell_type": "code",
   "execution_count": 25,
   "id": "5359dc16",
   "metadata": {},
   "outputs": [
    {
     "name": "stdout",
     "output_type": "stream",
     "text": [
      "Computing with tau: 0.005915282652756039\n",
      "Tolerance level reached with error: 0.0009999738760021518 and 188557 steps\n",
      "Time elapsed: 145.06775129999983\n",
      "Norm of difference with Numpy solution: 0.20407430400019877\n"
     ]
    }
   ],
   "source": [
    "min_eigenvalue, max_eigenvalue = gershgorin.estimate_eigenvalues(A)\n",
    "tau = 2 / (min_eigenvalue + max_eigenvalue)\n",
    "print('Computing with tau:', tau)\n",
    "\n",
    "my_solution = Richardson().solve(A, b, tau)\n",
    "\n",
    "print('Norm of difference with Numpy solution:', np.linalg.norm(my_solution - numpy_solution))"
   ]
  },
  {
   "cell_type": "markdown",
   "id": "397d00c0",
   "metadata": {},
   "source": [
    "## Exact optimal tau"
   ]
  },
  {
   "cell_type": "code",
   "execution_count": 26,
   "id": "9eee9dfc",
   "metadata": {},
   "outputs": [
    {
     "name": "stdout",
     "output_type": "stream",
     "text": [
      "Computing with tau: 0.013289824467585792\n",
      "Tolerance level reached with error: 0.0009999563786070068 and 183483 steps\n",
      "Time elapsed: 144.63476960000003\n",
      "Norm of difference with Numpy solution: 0.00031198610654800717\n"
     ]
    }
   ],
   "source": [
    "min_eigenvalue = np.linalg.eigvals(A).min()\n",
    "max_eigenvalue = np.linalg.eigvals(A).max()\n",
    "\n",
    "tau = 2 / (min_eigenvalue + max_eigenvalue)\n",
    "print('Computing with tau:', tau)\n",
    "\n",
    "my_solution = Richardson().solve(A, b, tau)\n",
    "\n",
    "print('Norm of difference with Numpy solution:', np.linalg.norm(my_solution - numpy_solution))"
   ]
  }
 ],
 "metadata": {
  "kernelspec": {
   "display_name": "Python 3 (ipykernel)",
   "language": "python",
   "name": "python3"
  },
  "language_info": {
   "codemirror_mode": {
    "name": "ipython",
    "version": 3
   },
   "file_extension": ".py",
   "mimetype": "text/x-python",
   "name": "python",
   "nbconvert_exporter": "python",
   "pygments_lexer": "ipython3",
   "version": "3.9.15"
  }
 },
 "nbformat": 4,
 "nbformat_minor": 5
}
